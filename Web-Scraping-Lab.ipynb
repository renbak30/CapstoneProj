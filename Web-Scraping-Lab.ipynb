{
 "cells": [
  {
   "cell_type": "markdown",
   "metadata": {},
   "source": [
    "<p style=\"text-align:center\">\n",
    "    <a href=\"https://skills.network/?utm_medium=Exinfluencer&utm_source=Exinfluencer&utm_content=000026UJ&utm_term=10006555&utm_id=NA-SkillsNetwork-Channel-SkillsNetworkCoursesIBMDA0321ENSkillsNetwork928-2022-01-01\" target=\"_blank\">\n",
    "    <img src=\"https://cf-courses-data.s3.us.cloud-object-storage.appdomain.cloud/assets/logos/SN_web_lightmode.png\" width=\"200\" alt=\"Skills Network Logo\"  />\n",
    "    </a>\n",
    "</p>\n"
   ]
  },
  {
   "cell_type": "markdown",
   "metadata": {},
   "source": [
    "# **Hands-on Lab : Web Scraping**\n"
   ]
  },
  {
   "cell_type": "markdown",
   "metadata": {},
   "source": [
    "Estimated time needed: **30 to 45** minutes\n"
   ]
  },
  {
   "cell_type": "markdown",
   "metadata": {},
   "source": [
    "## Objectives\n"
   ]
  },
  {
   "cell_type": "markdown",
   "metadata": {},
   "source": [
    "In this lab you will perform the following:\n"
   ]
  },
  {
   "cell_type": "markdown",
   "metadata": {},
   "source": [
    "* Extract information from a given web site \n",
    "* Write the scraped data into a csv file.\n"
   ]
  },
  {
   "cell_type": "markdown",
   "metadata": {},
   "source": [
    "## Extract information from the given web site\n",
    "You will extract the data from the below web site: <br> \n"
   ]
  },
  {
   "cell_type": "code",
   "execution_count": 2,
   "metadata": {
    "tags": []
   },
   "outputs": [],
   "source": [
    "#this url contains the data you need to scrape\n",
    "url = \"https://cf-courses-data.s3.us.cloud-object-storage.appdomain.cloud/IBM-DA0321EN-SkillsNetwork/labs/datasets/Programming_Languages.html\""
   ]
  },
  {
   "cell_type": "markdown",
   "metadata": {},
   "source": [
    "The data you need to scrape is the **name of the programming language** and **average annual salary**.<br> It is a good idea to open the url in your web broswer and study the contents of the web page before you start to scrape.\n"
   ]
  },
  {
   "cell_type": "markdown",
   "metadata": {},
   "source": [
    "Import the required libraries\n"
   ]
  },
  {
   "cell_type": "code",
   "execution_count": 13,
   "metadata": {
    "tags": []
   },
   "outputs": [
    {
     "name": "stdout",
     "output_type": "stream",
     "text": [
      "\n",
      "                  __    __    __    __\n",
      "                 /  \\  /  \\  /  \\  /  \\\n",
      "                /    \\/    \\/    \\/    \\\n",
      "███████████████/  /██/  /██/  /██/  /████████████████████████\n",
      "              /  / \\   / \\   / \\   / \\  \\____\n",
      "             /  /   \\_/   \\_/   \\_/   \\    o \\__,\n",
      "            / _/                       \\_____/  `\n",
      "            |/\n",
      "        ███╗   ███╗ █████╗ ███╗   ███╗██████╗  █████╗\n",
      "        ████╗ ████║██╔══██╗████╗ ████║██╔══██╗██╔══██╗\n",
      "        ██╔████╔██║███████║██╔████╔██║██████╔╝███████║\n",
      "        ██║╚██╔╝██║██╔══██║██║╚██╔╝██║██╔══██╗██╔══██║\n",
      "        ██║ ╚═╝ ██║██║  ██║██║ ╚═╝ ██║██████╔╝██║  ██║\n",
      "        ╚═╝     ╚═╝╚═╝  ╚═╝╚═╝     ╚═╝╚═════╝ ╚═╝  ╚═╝\n",
      "\n",
      "        mamba (1.4.2) supported by @QuantStack\n",
      "\n",
      "        GitHub:  https://github.com/mamba-org/mamba\n",
      "        Twitter: https://twitter.com/QuantStack\n",
      "\n",
      "█████████████████████████████████████████████████████████████\n",
      "\n",
      "\n",
      "Looking for: ['bs4==4.10.0']\n",
      "\n",
      "\u001b[?25l\u001b[2K\u001b[0G[+] 0.0s\n",
      "pkgs/main/linux-64 \u001b[90m━━━━━━━╸\u001b[0m\u001b[33m━━━━━━━━━━━━━━━╸\u001b[0m\u001b[90m━\u001b[0m   0.0 B /  ??.?MB @  ??.?MB/s  0.0s\u001b[2K\u001b[1A\u001b[2K\u001b[0G[+] 0.1s\n",
      "pkgs/main/linux-64 \u001b[90m━━━━━━━╸\u001b[0m\u001b[33m━━━━━━━━━━━━━━━╸\u001b[0m\u001b[90m━\u001b[0m   0.0 B /  ??.?MB @  ??.?MB/s  0.1s\n",
      "pkgs/main/noarch   \u001b[33m━━━━━━━━━━━━━━━╸\u001b[0m\u001b[90m━━━━━━━━━\u001b[0m   0.0 B /  ??.?MB @  ??.?MB/s  0.1s\n",
      "pkgs/r/linux-64    \u001b[33m━━━━━━━━╸\u001b[0m\u001b[90m━━━━━━━━━━━━━━━━\u001b[0m   0.0 B /  ??.?MB @  ??.?MB/s  0.1s\n",
      "pkgs/r/noarch      \u001b[90m━━━━━━━╸\u001b[0m\u001b[33m━━━━━━━━━━━━━━━╸\u001b[0m\u001b[90m━\u001b[0m   0.0 B /  ??.?MB @  ??.?MB/s  0.1s\u001b[2K\u001b[1A\u001b[2K\u001b[1A\u001b[2K\u001b[1A\u001b[2K\u001b[1A\u001b[2K\u001b[0Gpkgs/main/noarch                                              No change\n",
      "pkgs/r/linux-64                                               No change\n",
      "pkgs/r/noarch                                                 No change\n",
      "[+] 0.2s\n",
      "pkgs/main/linux-64 \u001b[90m━━━━━━━━━╸\u001b[0m\u001b[33m━━━━━━━━━━━━━━━\u001b[0m   0.0 B /  ??.?MB @  ??.?MB/s  0.2s\u001b[2K\u001b[1A\u001b[2K\u001b[0Gpkgs/main/linux-64                                            No change\n",
      "[+] 0.3s\n",
      "\u001b[2K\u001b[1A\u001b[2K\u001b[0G\u001b[?25h\n",
      "Pinned packages:\n",
      "  - python 3.7.*\n",
      "\n",
      "\n",
      "Transaction\n",
      "\n",
      "  Prefix: /home/jupyterlab/conda/envs/python\n",
      "\n",
      "  All requested packages already installed\n",
      "\n",
      "\u001b[?25l\u001b[2K\u001b[0G\u001b[?25hRequirement already satisfied: lxml==4.6.4 in /home/jupyterlab/conda/envs/python/lib/python3.7/site-packages (4.6.4)\n",
      "\n",
      "                  __    __    __    __\n",
      "                 /  \\  /  \\  /  \\  /  \\\n",
      "                /    \\/    \\/    \\/    \\\n",
      "███████████████/  /██/  /██/  /██/  /████████████████████████\n",
      "              /  / \\   / \\   / \\   / \\  \\____\n",
      "             /  /   \\_/   \\_/   \\_/   \\    o \\__,\n",
      "            / _/                       \\_____/  `\n",
      "            |/\n",
      "        ███╗   ███╗ █████╗ ███╗   ███╗██████╗  █████╗\n",
      "        ████╗ ████║██╔══██╗████╗ ████║██╔══██╗██╔══██╗\n",
      "        ██╔████╔██║███████║██╔████╔██║██████╔╝███████║\n",
      "        ██║╚██╔╝██║██╔══██║██║╚██╔╝██║██╔══██╗██╔══██║\n",
      "        ██║ ╚═╝ ██║██║  ██║██║ ╚═╝ ██║██████╔╝██║  ██║\n",
      "        ╚═╝     ╚═╝╚═╝  ╚═╝╚═╝     ╚═╝╚═════╝ ╚═╝  ╚═╝\n",
      "\n",
      "        mamba (1.4.2) supported by @QuantStack\n",
      "\n",
      "        GitHub:  https://github.com/mamba-org/mamba\n",
      "        Twitter: https://twitter.com/QuantStack\n",
      "\n",
      "█████████████████████████████████████████████████████████████\n",
      "\n",
      "\n",
      "Looking for: ['html5lib==1.1']\n",
      "\n",
      "pkgs/main/linux-64                                          Using cache\n",
      "pkgs/main/noarch                                            Using cache\n",
      "pkgs/r/linux-64                                             Using cache\n",
      "pkgs/r/noarch                                               Using cache\n",
      "\n",
      "Pinned packages:\n",
      "  - python 3.7.*\n",
      "\n",
      "\n",
      "Transaction\n",
      "\n",
      "  Prefix: /home/jupyterlab/conda/envs/python\n",
      "\n",
      "  All requested packages already installed\n",
      "\n",
      "\u001b[?25l\u001b[2K\u001b[0G\u001b[?25h"
     ]
    }
   ],
   "source": [
    "# Your code here\n",
    "!mamba install bs4==4.10.0 -y\n",
    "!pip install lxml==4.6.4\n",
    "!mamba install html5lib==1.1 -y\n",
    "from bs4 import BeautifulSoup\n",
    "import requests\n",
    "import pandas as pd\n"
   ]
  },
  {
   "cell_type": "markdown",
   "metadata": {},
   "source": [
    "Download the webpage at the url\n"
   ]
  },
  {
   "cell_type": "code",
   "execution_count": 14,
   "metadata": {
    "tags": []
   },
   "outputs": [],
   "source": [
    "#your code goes here\n",
    "data = requests.get(url).text"
   ]
  },
  {
   "cell_type": "markdown",
   "metadata": {},
   "source": [
    "Create a soup object\n"
   ]
  },
  {
   "cell_type": "code",
   "execution_count": 22,
   "metadata": {
    "tags": []
   },
   "outputs": [
    {
     "name": "stdout",
     "output_type": "stream",
     "text": [
      "<!DOCTYPE html>\n",
      "<html lang=\"en\">\n",
      " <head>\n",
      "  <title>\n",
      "   Salary survey results of programming languages\n",
      "  </title>\n",
      "  <style>\n",
      "   table, th, td {\n",
      "  border: 1px solid black;\n",
      "}\n",
      "  </style>\n",
      " </head>\n",
      " <body>\n",
      "  <hr/>\n",
      "  <h2>\n",
      "   Popular Programming Languages\n",
      "  </h2>\n",
      "  <hr/>\n",
      "  <p>\n",
      "   Finding out which is the best language is a tough task. A programming language is created to solve a specific problem. A language which is good for task A may not be able to properly handle task B. Comparing programming language is never easy. What we can do, however, is find which is popular in the industry.\n",
      "  </p>\n",
      "  <p>\n",
      "   There are many ways to find the popularity of a programming languages. Counting the number of google searchs for each language is a simple way to find the popularity. GitHub and StackOverflow also can give some good pointers.\n",
      "  </p>\n",
      "  <p>\n",
      "   Salary surveys are a way to find out the programmings languages that are most in demand in the industry. Below table is the result of one such survey. When using any survey keep in mind that the results vary year on year.\n",
      "  </p>\n",
      "  <hr/>\n",
      "  <table>\n",
      "   <tbody>\n",
      "    <tr>\n",
      "     <td>\n",
      "      No.\n",
      "     </td>\n",
      "     <td>\n",
      "      Language\n",
      "     </td>\n",
      "     <td>\n",
      "      Created By\n",
      "     </td>\n",
      "     <td>\n",
      "      Average Annual Salary\n",
      "     </td>\n",
      "     <td>\n",
      "      Learning Difficulty\n",
      "     </td>\n",
      "    </tr>\n",
      "    <tr>\n",
      "     <td>\n",
      "      1\n",
      "     </td>\n",
      "     <td>\n",
      "      Python\n",
      "     </td>\n",
      "     <td>\n",
      "      Guido van Rossum\n",
      "     </td>\n",
      "     <td>\n",
      "      $114,383\n",
      "     </td>\n",
      "     <td>\n",
      "      Easy\n",
      "     </td>\n",
      "    </tr>\n",
      "    <tr>\n",
      "     <td>\n",
      "      2\n",
      "     </td>\n",
      "     <td>\n",
      "      Java\n",
      "     </td>\n",
      "     <td>\n",
      "      James Gosling\n",
      "     </td>\n",
      "     <td>\n",
      "      $101,013\n",
      "     </td>\n",
      "     <td>\n",
      "      Easy\n",
      "     </td>\n",
      "    </tr>\n",
      "    <tr>\n",
      "     <td>\n",
      "      3\n",
      "     </td>\n",
      "     <td>\n",
      "      R\n",
      "     </td>\n",
      "     <td>\n",
      "      Robert Gentleman, Ross Ihaka\n",
      "     </td>\n",
      "     <td>\n",
      "      $92,037\n",
      "     </td>\n",
      "     <td>\n",
      "      Hard\n",
      "     </td>\n",
      "    </tr>\n",
      "    <tr>\n",
      "     <td>\n",
      "      4\n",
      "     </td>\n",
      "     <td>\n",
      "      Javascript\n",
      "     </td>\n",
      "     <td>\n",
      "      Netscape\n",
      "     </td>\n",
      "     <td>\n",
      "      $110,981\n",
      "     </td>\n",
      "     <td>\n",
      "      Easy\n",
      "     </td>\n",
      "    </tr>\n",
      "    <tr>\n",
      "     <td>\n",
      "      5\n",
      "     </td>\n",
      "     <td>\n",
      "      Swift\n",
      "     </td>\n",
      "     <td>\n",
      "      Apple\n",
      "     </td>\n",
      "     <td>\n",
      "      $130,801\n",
      "     </td>\n",
      "     <td>\n",
      "      Easy\n",
      "     </td>\n",
      "    </tr>\n",
      "    <tr>\n",
      "     <td>\n",
      "      6\n",
      "     </td>\n",
      "     <td>\n",
      "      C++\n",
      "     </td>\n",
      "     <td>\n",
      "      Bjarne Stroustrup\n",
      "     </td>\n",
      "     <td>\n",
      "      $113,865\n",
      "     </td>\n",
      "     <td>\n",
      "      Hard\n",
      "     </td>\n",
      "    </tr>\n",
      "    <tr>\n",
      "     <td>\n",
      "      7\n",
      "     </td>\n",
      "     <td>\n",
      "      C#\n",
      "     </td>\n",
      "     <td>\n",
      "      Microsoft\n",
      "     </td>\n",
      "     <td>\n",
      "      $88,726\n",
      "     </td>\n",
      "     <td>\n",
      "      Hard\n",
      "     </td>\n",
      "    </tr>\n",
      "    <tr>\n",
      "     <td>\n",
      "      8\n",
      "     </td>\n",
      "     <td>\n",
      "      PHP\n",
      "     </td>\n",
      "     <td>\n",
      "      Rasmus Lerdorf\n",
      "     </td>\n",
      "     <td>\n",
      "      $84,727\n",
      "     </td>\n",
      "     <td>\n",
      "      Easy\n",
      "     </td>\n",
      "    </tr>\n",
      "    <tr>\n",
      "     <td>\n",
      "      9\n",
      "     </td>\n",
      "     <td>\n",
      "      SQL\n",
      "     </td>\n",
      "     <td>\n",
      "      Donald D. Chamberlin, Raymond F. Boyce.\n",
      "     </td>\n",
      "     <td>\n",
      "      $84,793\n",
      "     </td>\n",
      "     <td>\n",
      "      Easy\n",
      "     </td>\n",
      "    </tr>\n",
      "    <tr>\n",
      "     <td>\n",
      "      10\n",
      "     </td>\n",
      "     <td>\n",
      "      Go\n",
      "     </td>\n",
      "     <td>\n",
      "      Robert Griesemer, Ken Thompson, Rob Pike.\n",
      "     </td>\n",
      "     <td>\n",
      "      $94,082\n",
      "     </td>\n",
      "     <td>\n",
      "      Difficult\n",
      "     </td>\n",
      "    </tr>\n",
      "   </tbody>\n",
      "  </table>\n",
      "  <hr/>\n",
      " </body>\n",
      "</html>\n"
     ]
    }
   ],
   "source": [
    "#your code goes here\n",
    "soup = BeautifulSoup(data,\"html.parser\")\n",
    "print(soup.prettify())"
   ]
  },
  {
   "cell_type": "markdown",
   "metadata": {},
   "source": [
    "Scrape the `Language name` and `annual average salary`.\n"
   ]
  },
  {
   "cell_type": "code",
   "execution_count": 48,
   "metadata": {
    "tags": []
   },
   "outputs": [
    {
     "name": "stdout",
     "output_type": "stream",
     "text": [
      "tag object: <tbody>\n",
      "<tr>\n",
      "<td>No.</td>\n",
      "<td>Language</td>\n",
      "<td>Created By</td>\n",
      "<td>Average Annual Salary</td>\n",
      "<td>Learning Difficulty</td>\n",
      "</tr>\n",
      "<tr>\n",
      "<td>1</td>\n",
      "<td>Python</td>\n",
      "<td>Guido van Rossum</td>\n",
      "<td>$114,383</td>\n",
      "<td>Easy</td>\n",
      "</tr>\n",
      "<tr>\n",
      "<td>2</td>\n",
      "<td>Java</td>\n",
      "<td>James Gosling</td>\n",
      "<td>$101,013</td>\n",
      "<td>Easy</td>\n",
      "</tr>\n",
      "<tr>\n",
      "<td>3</td>\n",
      "<td>R</td>\n",
      "<td>Robert Gentleman, Ross Ihaka</td>\n",
      "<td>$92,037</td>\n",
      "<td>Hard</td>\n",
      "</tr>\n",
      "<tr>\n",
      "<td>4</td>\n",
      "<td>Javascript</td>\n",
      "<td>Netscape</td>\n",
      "<td>$110,981</td>\n",
      "<td>Easy</td>\n",
      "</tr>\n",
      "<tr>\n",
      "<td>5</td>\n",
      "<td>Swift</td>\n",
      "<td>Apple</td>\n",
      "<td>$130,801</td>\n",
      "<td>Easy</td>\n",
      "</tr>\n",
      "<tr>\n",
      "<td>6</td>\n",
      "<td>C++</td>\n",
      "<td>Bjarne Stroustrup</td>\n",
      "<td>$113,865</td>\n",
      "<td>Hard</td>\n",
      "</tr>\n",
      "<tr>\n",
      "<td>7</td>\n",
      "<td>C#</td>\n",
      "<td>Microsoft</td>\n",
      "<td>$88,726</td>\n",
      "<td>Hard</td>\n",
      "</tr>\n",
      "<tr>\n",
      "<td>8</td>\n",
      "<td>PHP</td>\n",
      "<td>Rasmus Lerdorf</td>\n",
      "<td>$84,727</td>\n",
      "<td>Easy</td>\n",
      "</tr>\n",
      "<tr>\n",
      "<td>9</td>\n",
      "<td>SQL</td>\n",
      "<td>Donald D. Chamberlin, Raymond F. Boyce.</td>\n",
      "<td>$84,793</td>\n",
      "<td>Easy</td>\n",
      "</tr>\n",
      "<tr>\n",
      "<td>10</td>\n",
      "<td>Go</td>\n",
      "<td>Robert Griesemer, Ken Thompson, Rob Pike.</td>\n",
      "<td>$94,082</td>\n",
      "<td>Difficult</td>\n",
      "</tr>\n",
      "</tbody>\n"
     ]
    },
    {
     "data": {
      "text/plain": [
       "'\\n'"
      ]
     },
     "execution_count": 48,
     "metadata": {},
     "output_type": "execute_result"
    }
   ],
   "source": [
    "#your code goes here\n",
    "tag_object=soup.tbody\n",
    "print(\"tag object:\",tag_object)\n",
    "tag_child =tag_object.td\n",
    "tag_child\n",
    "parent_tag=tag_child.parent\n",
    "parent_tag\n",
    "tag_object.parent\n",
    "sibling_1=tag_object.next_sibling\n",
    "sibling_1\n",
    "\n",
    "\n",
    "\n",
    "\n"
   ]
  },
  {
   "cell_type": "markdown",
   "metadata": {},
   "source": [
    "Save the scrapped data into a file named *popular-languages.csv*\n"
   ]
  },
  {
   "cell_type": "code",
   "execution_count": null,
   "metadata": {},
   "outputs": [],
   "source": [
    "# your code goes here\n",
    "\n",
    "\n"
   ]
  },
  {
   "cell_type": "markdown",
   "metadata": {},
   "source": [
    "## Authors\n"
   ]
  },
  {
   "cell_type": "markdown",
   "metadata": {},
   "source": [
    "Ramesh Sannareddy\n"
   ]
  },
  {
   "cell_type": "markdown",
   "metadata": {},
   "source": [
    "### Other Contributors\n"
   ]
  },
  {
   "cell_type": "markdown",
   "metadata": {},
   "source": [
    "Rav Ahuja\n"
   ]
  },
  {
   "cell_type": "markdown",
   "metadata": {},
   "source": [
    "## Change Log\n"
   ]
  },
  {
   "cell_type": "markdown",
   "metadata": {},
   "source": [
    "|  Date (YYYY-MM-DD) |  Version | Changed By  |  Change Description |\n",
    "|---|---|---|---|\n",
    "| 2020-10-17  | 0.1  | Ramesh Sannareddy  |  Created initial version of the lab |\n"
   ]
  },
  {
   "cell_type": "markdown",
   "metadata": {},
   "source": [
    " Copyright &copy; 2020 IBM Corporation. This notebook and its source code are released under the terms of the [MIT License](https://cognitiveclass.ai/mit-license/?utm_medium=Exinfluencer&utm_source=Exinfluencer&utm_content=000026UJ&utm_term=10006555&utm_id=NA-SkillsNetwork-Channel-SkillsNetworkCoursesIBMDA0321ENSkillsNetwork928-2022-01-01).\n"
   ]
  }
 ],
 "metadata": {
  "kernelspec": {
   "display_name": "Python",
   "language": "python",
   "name": "conda-env-python-py"
  },
  "language_info": {
   "codemirror_mode": {
    "name": "ipython",
    "version": 3
   },
   "file_extension": ".py",
   "mimetype": "text/x-python",
   "name": "python",
   "nbconvert_exporter": "python",
   "pygments_lexer": "ipython3",
   "version": "3.7.12"
  }
 },
 "nbformat": 4,
 "nbformat_minor": 4
}
